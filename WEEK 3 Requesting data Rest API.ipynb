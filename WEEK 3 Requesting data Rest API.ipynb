{
 "cells": [
  {
   "cell_type": "code",
   "execution_count": 1,
   "metadata": {},
   "outputs": [],
   "source": [
    "import requests\n",
    "import json"
   ]
  },
  {
   "cell_type": "code",
   "execution_count": 2,
   "metadata": {},
   "outputs": [],
   "source": [
    "page=requests.get(\"https://api.datamuse.com/words?rel_rhy=funny\")"
   ]
  },
  {
   "cell_type": "code",
   "execution_count": 3,
   "metadata": {},
   "outputs": [
    {
     "data": {
      "text/plain": [
       "requests.models.Response"
      ]
     },
     "execution_count": 3,
     "metadata": {},
     "output_type": "execute_result"
    }
   ],
   "source": [
    "type(page)"
   ]
  },
  {
   "cell_type": "code",
   "execution_count": 18,
   "metadata": {},
   "outputs": [
    {
     "data": {
      "text/plain": [
       "'[{\"word\":\"money\",\"score\":4415,\"numSyllables\":2},{\"word\":\"honey\",\"score\":1206,\"numSyllables\":2},{\"word\":\"sunny\",\"score\":717,\"numSyllables\":2},{\"word\":\"bunny\",\"score\":702,\"numSyllables\":2},{\"word\":\"blini\",\"score\":613,\"numSyllables\":2},{\"word\":\"gunny\",\"score\":449,\"numSyllables\":2},{\"word\":\"tunny\",\"score\":301,\"numSyllables\":2},{\"word\":\"sonny\",\"score\":286,\"numSyllables\":2},{\"word\":\"dunny\",\"score\":245,\"numSyllables\":2},{\"word\":\"runny\",\"score\":225,\"numSyllables\":2},{\"word\":\"thunny\",\"score\":222,\"numSyllables\":2},{\"word\":\"aknee\",\"score\":179,\"numSyllables\":2},{\"word\":\"squinny\",\"score\":170,\"numSyllables\":2},{\"word\":\"fiat money\",\"score\":160,\"numSyllables\":4},{\"word\":\"gunnie\",\"score\":156,\"numSyllables\":2},{\"word\":\"blood money\",\"score\":152,\"numSyllables\":3},{\"word\":\"squiny\",\"score\":151,\"numSyllables\":2},{\"word\":\"tunney\",\"score\":119,\"numSyllables\":2},{\"word\":\"spinny\",\"score\":117,\"numSyllables\":2},{\"word\":\"pin money\",\"score\":107,\"numSyllables\":3},{\"word\":\"easy money\",\"score\":66,\"numSyllables\":4},{\"word\":\"smart money\",\"score\":66,\"numSyllables\":3},{\"word\":\"earnest money\",\"score\":62,\"numSyllables\":4},{\"word\":\"easter bunny\",\"score\":56,\"numSyllables\":4},{\"word\":\"paper money\",\"score\":54,\"numSyllables\":4},{\"word\":\"pocket money\",\"score\":47,\"numSyllables\":4},{\"word\":\"folding money\",\"score\":46,\"numSyllables\":4},{\"word\":\"conscience money\",\"score\":41,\"numSyllables\":4},{\"word\":\"hush money\",\"score\":40,\"numSyllables\":3},{\"word\":\"prize money\",\"score\":37,\"numSyllables\":3},{\"word\":\"amount of money\",\"score\":33,\"numSyllables\":5},{\"word\":\"for love or money\",\"score\":32,\"numSyllables\":5},{\"word\":\"tight money\",\"score\":32,\"numSyllables\":3},{\"word\":\"ship money\",\"score\":30,\"numSyllables\":3},{\"word\":\"metal money\",\"score\":27,\"numSyllables\":4},{\"word\":\"sum of money\",\"score\":23,\"numSyllables\":4},{\"word\":\"entrance money\",\"score\":22,\"numSyllables\":4},{\"word\":\"cheap money\",\"score\":21,\"numSyllables\":3},{\"word\":\"spending money\",\"score\":21,\"numSyllables\":4},{\"word\":\"token money\",\"score\":21,\"numSyllables\":4},{\"word\":\"waste of money\",\"score\":19,\"numSyllables\":4},{\"word\":\"ransom money\",\"score\":18,\"numSyllables\":4},{\"word\":\"hearth money\",\"score\":14,\"numSyllables\":3},{\"word\":\"munni\",\"score\":14,\"numSyllables\":2},{\"word\":\"bunnie\",\"score\":2,\"numSyllables\":2},{\"word\":\"euromoney\",\"score\":2,\"numSyllables\":4},{\"word\":\"smartmoney\",\"score\":2,\"numSyllables\":3},{\"word\":\"anyone he\",\"numSyllables\":4},{\"word\":\"begun he\",\"numSyllables\":3},{\"word\":\"bunney\",\"numSyllables\":2},{\"word\":\"ca ne\",\"numSyllables\":2},{\"word\":\"done he\",\"numSyllables\":2},{\"word\":\"donne e\",\"numSyllables\":2},{\"word\":\"everyone he\",\"numSyllables\":4},{\"word\":\"fun he\",\"numSyllables\":2},{\"word\":\"grandson he\",\"numSyllables\":3},{\"word\":\"gun he\",\"numSyllables\":2},{\"word\":\"handgun he\",\"numSyllables\":3},{\"word\":\"kun hee\",\"numSyllables\":2},{\"word\":\"le ne\",\"numSyllables\":2},{\"word\":\"lunney\",\"numSyllables\":2},{\"word\":\"lunny\",\"numSyllables\":2},{\"word\":\"none e\",\"numSyllables\":2},{\"word\":\"none he\",\"numSyllables\":2},{\"word\":\"nun he\",\"numSyllables\":2},{\"word\":\"one he\",\"numSyllables\":2},{\"word\":\"one knee\",\"numSyllables\":2},{\"word\":\"pun he\",\"numSyllables\":2},{\"word\":\"run e\",\"numSyllables\":2},{\"word\":\"run he\",\"numSyllables\":2},{\"word\":\"shotgun he\",\"numSyllables\":3},{\"word\":\"someone e\",\"numSyllables\":3},{\"word\":\"someone he\",\"numSyllables\":3},{\"word\":\"son e\",\"numSyllables\":2},{\"word\":\"son he\",\"numSyllables\":2},{\"word\":\"sun e\",\"numSyllables\":2},{\"word\":\"sun he\",\"numSyllables\":2},{\"word\":\"ton he\",\"numSyllables\":2},{\"word\":\"ton ne\",\"numSyllables\":2},{\"word\":\"un e\",\"numSyllables\":2},{\"word\":\"un he\",\"numSyllables\":2},{\"word\":\"un ne\",\"numSyllables\":2},{\"word\":\"un ni\",\"numSyllables\":2},{\"word\":\"won he\",\"numSyllables\":2}]'"
      ]
     },
     "execution_count": 18,
     "metadata": {},
     "output_type": "execute_result"
    }
   ],
   "source": [
    "page.text\n"
   ]
  },
  {
   "cell_type": "code",
   "execution_count": 19,
   "metadata": {},
   "outputs": [],
   "source": [
    "data=page.json()"
   ]
  },
  {
   "cell_type": "code",
   "execution_count": 20,
   "metadata": {},
   "outputs": [
    {
     "data": {
      "text/plain": [
       "{'word': 'money', 'score': 4415, 'numSyllables': 2}"
      ]
     },
     "execution_count": 20,
     "metadata": {},
     "output_type": "execute_result"
    }
   ],
   "source": [
    "data[0]"
   ]
  },
  {
   "cell_type": "code",
   "execution_count": 21,
   "metadata": {},
   "outputs": [],
   "source": [
    "import pandas as pd\n",
    "df=pd.DataFrame(data)"
   ]
  },
  {
   "cell_type": "code",
   "execution_count": 22,
   "metadata": {},
   "outputs": [
    {
     "data": {
      "text/html": [
       "<div>\n",
       "<style scoped>\n",
       "    .dataframe tbody tr th:only-of-type {\n",
       "        vertical-align: middle;\n",
       "    }\n",
       "\n",
       "    .dataframe tbody tr th {\n",
       "        vertical-align: top;\n",
       "    }\n",
       "\n",
       "    .dataframe thead th {\n",
       "        text-align: right;\n",
       "    }\n",
       "</style>\n",
       "<table border=\"1\" class=\"dataframe\">\n",
       "  <thead>\n",
       "    <tr style=\"text-align: right;\">\n",
       "      <th></th>\n",
       "      <th>word</th>\n",
       "      <th>score</th>\n",
       "      <th>numSyllables</th>\n",
       "    </tr>\n",
       "  </thead>\n",
       "  <tbody>\n",
       "    <tr>\n",
       "      <th>0</th>\n",
       "      <td>money</td>\n",
       "      <td>4415.0</td>\n",
       "      <td>2</td>\n",
       "    </tr>\n",
       "    <tr>\n",
       "      <th>1</th>\n",
       "      <td>honey</td>\n",
       "      <td>1206.0</td>\n",
       "      <td>2</td>\n",
       "    </tr>\n",
       "    <tr>\n",
       "      <th>2</th>\n",
       "      <td>sunny</td>\n",
       "      <td>717.0</td>\n",
       "      <td>2</td>\n",
       "    </tr>\n",
       "    <tr>\n",
       "      <th>3</th>\n",
       "      <td>bunny</td>\n",
       "      <td>702.0</td>\n",
       "      <td>2</td>\n",
       "    </tr>\n",
       "    <tr>\n",
       "      <th>4</th>\n",
       "      <td>blini</td>\n",
       "      <td>613.0</td>\n",
       "      <td>2</td>\n",
       "    </tr>\n",
       "    <tr>\n",
       "      <th>...</th>\n",
       "      <td>...</td>\n",
       "      <td>...</td>\n",
       "      <td>...</td>\n",
       "    </tr>\n",
       "    <tr>\n",
       "      <th>79</th>\n",
       "      <td>un e</td>\n",
       "      <td>NaN</td>\n",
       "      <td>2</td>\n",
       "    </tr>\n",
       "    <tr>\n",
       "      <th>80</th>\n",
       "      <td>un he</td>\n",
       "      <td>NaN</td>\n",
       "      <td>2</td>\n",
       "    </tr>\n",
       "    <tr>\n",
       "      <th>81</th>\n",
       "      <td>un ne</td>\n",
       "      <td>NaN</td>\n",
       "      <td>2</td>\n",
       "    </tr>\n",
       "    <tr>\n",
       "      <th>82</th>\n",
       "      <td>un ni</td>\n",
       "      <td>NaN</td>\n",
       "      <td>2</td>\n",
       "    </tr>\n",
       "    <tr>\n",
       "      <th>83</th>\n",
       "      <td>won he</td>\n",
       "      <td>NaN</td>\n",
       "      <td>2</td>\n",
       "    </tr>\n",
       "  </tbody>\n",
       "</table>\n",
       "<p>84 rows × 3 columns</p>\n",
       "</div>"
      ],
      "text/plain": [
       "      word   score  numSyllables\n",
       "0    money  4415.0             2\n",
       "1    honey  1206.0             2\n",
       "2    sunny   717.0             2\n",
       "3    bunny   702.0             2\n",
       "4    blini   613.0             2\n",
       "..     ...     ...           ...\n",
       "79    un e     NaN             2\n",
       "80   un he     NaN             2\n",
       "81   un ne     NaN             2\n",
       "82   un ni     NaN             2\n",
       "83  won he     NaN             2\n",
       "\n",
       "[84 rows x 3 columns]"
      ]
     },
     "execution_count": 22,
     "metadata": {},
     "output_type": "execute_result"
    }
   ],
   "source": [
    "df"
   ]
  },
  {
   "cell_type": "code",
   "execution_count": 18,
   "metadata": {},
   "outputs": [
    {
     "name": "stdout",
     "output_type": "stream",
     "text": [
      "[{\"word\":\"money\",\"score\":4415,\"numSyllables\":2},{\"word\":\"honey\",\"score\":1210,\"numSyllables\":2},{\"word\":\"sunny\",\"score\":717,\"numSyllables\":2},{\"word\":\"\n"
     ]
    }
   ],
   "source": [
    "print(page.text[:150])"
   ]
  },
  {
   "cell_type": "code",
   "execution_count": 20,
   "metadata": {},
   "outputs": [
    {
     "data": {
      "text/plain": [
       "'https://api.datamuse.com/words?rel_rhy=funny'"
      ]
     },
     "execution_count": 20,
     "metadata": {},
     "output_type": "execute_result"
    }
   ],
   "source": [
    "page.url"
   ]
  },
  {
   "cell_type": "code",
   "execution_count": 22,
   "metadata": {},
   "outputs": [],
   "source": [
    "data=page.json()#turn page into python object ie list"
   ]
  },
  {
   "cell_type": "code",
   "execution_count": 23,
   "metadata": {},
   "outputs": [
    {
     "data": {
      "text/plain": [
       "list"
      ]
     },
     "execution_count": 23,
     "metadata": {},
     "output_type": "execute_result"
    }
   ],
   "source": [
    "type(data)#check type of object"
   ]
  },
  {
   "cell_type": "code",
   "execution_count": 25,
   "metadata": {},
   "outputs": [
    {
     "data": {
      "text/plain": [
       "{'word': 'money', 'score': 4415, 'numSyllables': 2}"
      ]
     },
     "execution_count": 25,
     "metadata": {},
     "output_type": "execute_result"
    }
   ],
   "source": [
    "data[0] #access value of object"
   ]
  },
  {
   "cell_type": "code",
   "execution_count": 29,
   "metadata": {},
   "outputs": [
    {
     "data": {
      "text/plain": [
       "'[\\n  {\\n    \"word\": \"money\",\\n    \"score\": 4415,\\n    \"numSyllables\": 2\\n  },\\n  {\\n    \"word\": \"honey\",\\n    \"score\": 1210,\\n    \"numSyllables\": 2\\n  },\\n  {\\n    \"word\": \"sunny\",\\n    \"score\": 717,\\n    \"numSyllables\": 2\\n  },\\n  {\\n    \"word\": \"bunny\",\\n    \"score\": 702,\\n    \"numSyllables\": 2\\n  },\\n  {\\n    \"word\": \"blini\",\\n    \"score\": 613,\\n    \"numSyllables\": 2\\n  },\\n  {\\n    \"word\": \"gunny\",\\n    \"score\": 449,\\n    \"numSyllables\": 2\\n  },\\n  {\\n    \"word\": \"tunny\",\\n    \"score\": 301,\\n    \"numSyllables\": 2\\n  },\\n  {\\n    \"word\": \"sonny\",\\n    \"score\": 286,\\n    \"numSyllables\": 2\\n  },\\n  {\\n    \"word\": \"dunny\",\\n    \"score\": 245,\\n    \"numSyllables\": 2\\n  },\\n  {\\n    \"word\": \"runny\",\\n    \"score\": 225,\\n    \"numSyllables\": 2\\n  },\\n  {\\n    \"word\": \"thunny\",\\n    \"score\": 222,\\n    \"numSyllables\": 2\\n  },\\n  {\\n    \"word\": \"aknee\",\\n    \"score\": 179,\\n    \"numSyllables\": 2\\n  },\\n  {\\n    \"word\": \"squinny\",\\n    \"score\": 170,\\n    \"numSyllables\": 2\\n  },\\n  {\\n    \"word\": \"fiat money\",\\n    \"score\": 160,\\n    \"numSyllables\": 4\\n  },\\n  {\\n    \"word\": \"gunnie\",\\n    \"score\": 156,\\n    \"numSyllables\": 2\\n  },\\n  {\\n    \"word\": \"blood money\",\\n    \"score\": 152,\\n    \"numSyllables\": 3\\n  },\\n  {\\n    \"word\": \"squiny\",\\n    \"score\": 151,\\n    \"numSyllables\": 2\\n  },\\n  {\\n    \"word\": \"tunney\",\\n    \"score\": 119,\\n    \"numSyllables\": 2\\n  },\\n  {\\n    \"word\": \"spinny\",\\n    \"score\": 117,\\n    \"numSyllables\": 2\\n  },\\n  {\\n    \"word\": \"pin money\",\\n    \"score\": 107,\\n    \"numSyllables\": 3\\n  },\\n  {\\n    \"word\": \"easy money\",\\n    \"score\": 66,\\n    \"numSyllables\": 4\\n  },\\n  {\\n    \"word\": \"smart money\",\\n    \"score\": 66,\\n    \"numSyllables\": 3\\n  },\\n  {\\n    \"word\": \"earnest money\",\\n    \"score\": 62,\\n    \"numSyllables\": 4\\n  },\\n  {\\n    \"word\": \"easter bunny\",\\n    \"score\": 56,\\n    \"numSyllables\": 4\\n  },\\n  {\\n    \"word\": \"paper money\",\\n    \"score\": 54,\\n    \"numSyllables\": 4\\n  },\\n  {\\n    \"word\": \"pocket money\",\\n    \"score\": 47,\\n    \"numSyllables\": 4\\n  },\\n  {\\n    \"word\": \"folding money\",\\n    \"score\": 46,\\n    \"numSyllables\": 4\\n  },\\n  {\\n    \"word\": \"conscience money\",\\n    \"score\": 41,\\n    \"numSyllables\": 4\\n  },\\n  {\\n    \"word\": \"hush money\",\\n    \"score\": 40,\\n    \"numSyllables\": 3\\n  },\\n  {\\n    \"word\": \"prize money\",\\n    \"score\": 37,\\n    \"numSyllables\": 3\\n  },\\n  {\\n    \"word\": \"amount of money\",\\n    \"score\": 33,\\n    \"numSyllables\": 5\\n  },\\n  {\\n    \"word\": \"for love or money\",\\n    \"score\": 32,\\n    \"numSyllables\": 5\\n  },\\n  {\\n    \"word\": \"tight money\",\\n    \"score\": 32,\\n    \"numSyllables\": 3\\n  },\\n  {\\n    \"word\": \"ship money\",\\n    \"score\": 30,\\n    \"numSyllables\": 3\\n  },\\n  {\\n    \"word\": \"metal money\",\\n    \"score\": 27,\\n    \"numSyllables\": 4\\n  },\\n  {\\n    \"word\": \"sum of money\",\\n    \"score\": 23,\\n    \"numSyllables\": 4\\n  },\\n  {\\n    \"word\": \"entrance money\",\\n    \"score\": 22,\\n    \"numSyllables\": 4\\n  },\\n  {\\n    \"word\": \"cheap money\",\\n    \"score\": 21,\\n    \"numSyllables\": 3\\n  },\\n  {\\n    \"word\": \"spending money\",\\n    \"score\": 21,\\n    \"numSyllables\": 4\\n  },\\n  {\\n    \"word\": \"token money\",\\n    \"score\": 21,\\n    \"numSyllables\": 4\\n  },\\n  {\\n    \"word\": \"waste of money\",\\n    \"score\": 19,\\n    \"numSyllables\": 4\\n  },\\n  {\\n    \"word\": \"ransom money\",\\n    \"score\": 18,\\n    \"numSyllables\": 4\\n  },\\n  {\\n    \"word\": \"hearth money\",\\n    \"score\": 14,\\n    \"numSyllables\": 3\\n  },\\n  {\\n    \"word\": \"munni\",\\n    \"score\": 14,\\n    \"numSyllables\": 2\\n  },\\n  {\\n    \"word\": \"bunnie\",\\n    \"score\": 2,\\n    \"numSyllables\": 2\\n  },\\n  {\\n    \"word\": \"euromoney\",\\n    \"score\": 2,\\n    \"numSyllables\": 4\\n  },\\n  {\\n    \"word\": \"smartmoney\",\\n    \"score\": 2,\\n    \"numSyllables\": 3\\n  },\\n  {\\n    \"word\": \"anyone he\",\\n    \"numSyllables\": 4\\n  },\\n  {\\n    \"word\": \"begun he\",\\n    \"numSyllables\": 3\\n  },\\n  {\\n    \"word\": \"bunney\",\\n    \"numSyllables\": 2\\n  },\\n  {\\n    \"word\": \"ca ne\",\\n    \"numSyllables\": 2\\n  },\\n  {\\n    \"word\": \"done he\",\\n    \"numSyllables\": 2\\n  },\\n  {\\n    \"word\": \"donne e\",\\n    \"numSyllables\": 2\\n  },\\n  {\\n    \"word\": \"everyone he\",\\n    \"numSyllables\": 4\\n  },\\n  {\\n    \"word\": \"fun he\",\\n    \"numSyllables\": 2\\n  },\\n  {\\n    \"word\": \"grandson he\",\\n    \"numSyllables\": 3\\n  },\\n  {\\n    \"word\": \"gun he\",\\n    \"numSyllables\": 2\\n  },\\n  {\\n    \"word\": \"handgun he\",\\n    \"numSyllables\": 3\\n  },\\n  {\\n    \"word\": \"kun hee\",\\n    \"numSyllables\": 2\\n  },\\n  {\\n    \"word\": \"le ne\",\\n    \"numSyllables\": 2\\n  },\\n  {\\n    \"word\": \"lunney\",\\n    \"numSyllables\": 2\\n  },\\n  {\\n    \"word\": \"lunny\",\\n    \"numSyllables\": 2\\n  },\\n  {\\n    \"word\": \"none e\",\\n    \"numSyllables\": 2\\n  },\\n  {\\n    \"word\": \"none he\",\\n    \"numSyllables\": 2\\n  },\\n  {\\n    \"word\": \"nun he\",\\n    \"numSyllables\": 2\\n  },\\n  {\\n    \"word\": \"one he\",\\n    \"numSyllables\": 2\\n  },\\n  {\\n    \"word\": \"one knee\",\\n    \"numSyllables\": 2\\n  },\\n  {\\n    \"word\": \"pun he\",\\n    \"numSyllables\": 2\\n  },\\n  {\\n    \"word\": \"run e\",\\n    \"numSyllables\": 2\\n  },\\n  {\\n    \"word\": \"run he\",\\n    \"numSyllables\": 2\\n  },\\n  {\\n    \"word\": \"shotgun he\",\\n    \"numSyllables\": 3\\n  },\\n  {\\n    \"word\": \"someone e\",\\n    \"numSyllables\": 3\\n  },\\n  {\\n    \"word\": \"someone he\",\\n    \"numSyllables\": 3\\n  },\\n  {\\n    \"word\": \"son e\",\\n    \"numSyllables\": 2\\n  },\\n  {\\n    \"word\": \"son he\",\\n    \"numSyllables\": 2\\n  },\\n  {\\n    \"word\": \"sun e\",\\n    \"numSyllables\": 2\\n  },\\n  {\\n    \"word\": \"sun he\",\\n    \"numSyllables\": 2\\n  },\\n  {\\n    \"word\": \"ton he\",\\n    \"numSyllables\": 2\\n  },\\n  {\\n    \"word\": \"ton ne\",\\n    \"numSyllables\": 2\\n  },\\n  {\\n    \"word\": \"un e\",\\n    \"numSyllables\": 2\\n  },\\n  {\\n    \"word\": \"un he\",\\n    \"numSyllables\": 2\\n  },\\n  {\\n    \"word\": \"un ne\",\\n    \"numSyllables\": 2\\n  },\\n  {\\n    \"word\": \"un ni\",\\n    \"numSyllables\": 2\\n  },\\n  {\\n    \"word\": \"won he\",\\n    \"numSyllables\": 2\\n  }\\n]'"
      ]
     },
     "execution_count": 29,
     "metadata": {},
     "output_type": "execute_result"
    }
   ],
   "source": [
    "json.dumps(data,indent=2)"
   ]
  },
  {
   "cell_type": "markdown",
   "metadata": {},
   "source": [
    "### Generating URL with Request "
   ]
  },
  {
   "cell_type": "code",
   "execution_count": 31,
   "metadata": {},
   "outputs": [
    {
     "name": "stdout",
     "output_type": "stream",
     "text": [
      "<class 'requests.models.Response'>\n"
     ]
    }
   ],
   "source": [
    "params_value={\"rel_rhy\":\"funny\"}\n",
    "page=requests.get(\"https://api.datamuse.com/words\",params=params_value) # check difference\n",
    "print(type(page))"
   ]
  },
  {
   "cell_type": "code",
   "execution_count": 35,
   "metadata": {},
   "outputs": [
    {
     "data": {
      "text/plain": [
       "'[{\"word\":\"money\",\"score\":4415,\"numSyllables\":2},{\"'"
      ]
     },
     "execution_count": 35,
     "metadata": {},
     "output_type": "execute_result"
    }
   ],
   "source": [
    "page.text[:50]"
   ]
  },
  {
   "cell_type": "code",
   "execution_count": 36,
   "metadata": {},
   "outputs": [
    {
     "data": {
      "text/plain": [
       "'https://api.datamuse.com/words?rel_rhy=funny'"
      ]
     },
     "execution_count": 36,
     "metadata": {},
     "output_type": "execute_result"
    }
   ],
   "source": [
    "page.url #check difference with above"
   ]
  },
  {
   "cell_type": "code",
   "execution_count": 43,
   "metadata": {},
   "outputs": [
    {
     "name": "stdout",
     "output_type": "stream",
     "text": [
      "<class 'requests.models.Response'>\n",
      "https://www.google.com/search?q=education+engineering&tbm=pune\n",
      "<!DOCTYPE html>\n",
      "<html lang=en>\n",
      "  <meta charset=utf-8>\n",
      "  <meta name=viewport content=\"initial-scale=1, minimum-scale=1, width=device-width\">\n",
      "  <title>Error 400 (Bad Request)!!1</title>\n",
      "  <style>\n",
      "    *{margin:0;padding:0}html,code{font:15px/22px arial,sans-serif}html{background:#fff;color:#222;padding:15px}body{margin:7% auto 0;max-width:390px;min-height:180px;padding:30px 0 15px}* > body{background:url(//www.google.com/images/errors/robot.png) 100% 5px no-repeat;padding-right:205px}p{margin:11px 0 22px;overflow:hidden}ins{color:#777;text-decoration:none}a img{border:0}@media screen and (max-width:772px){body{background:none;margin-top:0;max-width:none;padding-right:0}}#logo{background:url(//www.google.com/images/branding/googlelogo/1x/googlelogo_color_150x54dp.png) no-repeat;margin-left:-5px}@media only screen and (min-resolution:192dpi){#logo{background:url(//www.google.com/images/branding/googlelogo/2x/googlelogo_color_150x54dp.png) no-repeat 0% 0%/100% 100%;-moz-border-image:url(//www.google.com/images/branding/googlelogo/2x/googlelogo_color_150x54dp.png) 0}}@media only screen and (-webkit-min-device-pixel-ratio:2){#logo{background:url(//www.google.com/images/branding/googlelogo/2x/googlelogo_color_150x54dp.png) no-repeat;-webkit-background-size:100% 100%}}#logo{display:inline-block;height:54px;width:150px}\n",
      "  </style>\n",
      "  <a href=//www.google.com/><span id=logo aria-label=Google></span></a>\n",
      "  <p><b>400.</b> <ins>That’s an error.</ins>\n",
      "  <p>Your client has issued a malformed or illegal request.  <ins>That’s all we know.</ins>\n",
      "\n"
     ]
    }
   ],
   "source": [
    "#multiple key and value pair\n",
    "d={\"q\":\"education engineering\",\"tbm\":\"pune\"}\n",
    "page=requests.get(\"https://google.com/search\",params=d) # check difference\n",
    "print(type(page))\n",
    "print(page.url)\n",
    "print(page.text)"
   ]
  },
  {
   "cell_type": "code",
   "execution_count": 69,
   "metadata": {},
   "outputs": [],
   "source": [
    "def get_rhym(word):\n",
    "    base_url=\"https://api.datamuse.com/words\"\n",
    "    param_dict={}\n",
    "    param_dict[\"rel_rhy\"]=word\n",
    "    param_dict[\"max\"]=3\n",
    "    page=requests.get(base_url,params=param_dict)\n",
    "    data=page.json()\n",
    "    return [d[\"word\"]for d in data]\n",
    "    #return data.json()"
   ]
  },
  {
   "cell_type": "code",
   "execution_count": 65,
   "metadata": {},
   "outputs": [
    {
     "data": {
      "text/plain": [
       "[{'word': 'money', 'score': 4415, 'numSyllables': 2},\n",
       " {'word': 'honey', 'score': 1210, 'numSyllables': 2},\n",
       " {'word': 'sunny', 'score': 717, 'numSyllables': 2},\n",
       " {'word': 'bunny', 'score': 702, 'numSyllables': 2},\n",
       " {'word': 'blini', 'score': 613, 'numSyllables': 2}]"
      ]
     },
     "execution_count": 65,
     "metadata": {},
     "output_type": "execute_result"
    }
   ],
   "source": [
    "data[:5]"
   ]
  },
  {
   "cell_type": "code",
   "execution_count": 71,
   "metadata": {},
   "outputs": [
    {
     "name": "stdout",
     "output_type": "stream",
     "text": [
      "['money', 'honey', 'sunny']\n"
     ]
    }
   ],
   "source": [
    "print(get_rhym(\"funny\"))"
   ]
  },
  {
   "cell_type": "code",
   "execution_count": 70,
   "metadata": {},
   "outputs": [
    {
     "name": "stdout",
     "output_type": "stream",
     "text": [
      "['cache', 'flash', 'ash']\n"
     ]
    }
   ],
   "source": [
    "print(get_rhym(\"dash\"))"
   ]
  },
  {
   "cell_type": "markdown",
   "metadata": {},
   "source": [
    "## request with cache file "
   ]
  },
  {
   "cell_type": "code",
   "execution_count": 86,
   "metadata": {},
   "outputs": [],
   "source": [
    "import requests_cache"
   ]
  },
  {
   "cell_type": "code",
   "execution_count": 88,
   "metadata": {},
   "outputs": [],
   "source": [
    "import turtle"
   ]
  },
  {
   "cell_type": "code",
   "execution_count": 89,
   "metadata": {},
   "outputs": [
    {
     "ename": "AttributeError",
     "evalue": "'Turtle' object has no attribute 'x'",
     "output_type": "error",
     "traceback": [
      "\u001b[1;31m---------------------------------------------------------------------------\u001b[0m",
      "\u001b[1;31mAttributeError\u001b[0m                            Traceback (most recent call last)",
      "\u001b[1;32m<ipython-input-89-3116d7bdb0d3>\u001b[0m in \u001b[0;36m<module>\u001b[1;34m\u001b[0m\n\u001b[0;32m      1\u001b[0m \u001b[0mjane\u001b[0m \u001b[1;33m=\u001b[0m \u001b[0mturtle\u001b[0m\u001b[1;33m.\u001b[0m\u001b[0mTurtle\u001b[0m\u001b[1;33m(\u001b[0m\u001b[1;33m)\u001b[0m\u001b[1;33m\u001b[0m\u001b[1;33m\u001b[0m\u001b[0m\n\u001b[0;32m      2\u001b[0m \u001b[0mjane\u001b[0m\u001b[1;33m.\u001b[0m\u001b[0mforward\u001b[0m\u001b[1;33m(\u001b[0m\u001b[1;36m20\u001b[0m\u001b[1;33m)\u001b[0m\u001b[1;33m\u001b[0m\u001b[1;33m\u001b[0m\u001b[0m\n\u001b[1;32m----> 3\u001b[1;33m \u001b[0mprint\u001b[0m\u001b[1;33m(\u001b[0m\u001b[0mjane\u001b[0m\u001b[1;33m.\u001b[0m\u001b[0mx\u001b[0m\u001b[1;33m)\u001b[0m\u001b[1;33m\u001b[0m\u001b[1;33m\u001b[0m\u001b[0m\n\u001b[0m",
      "\u001b[1;31mAttributeError\u001b[0m: 'Turtle' object has no attribute 'x'"
     ]
    }
   ],
   "source": [
    "jane = turtle.Turtle()\n",
    "jane.forward(20)\n",
    "print(jane.x)"
   ]
  }
 ],
 "metadata": {
  "kernelspec": {
   "display_name": "Python 3",
   "language": "python",
   "name": "python3"
  },
  "language_info": {
   "codemirror_mode": {
    "name": "ipython",
    "version": 3
   },
   "file_extension": ".py",
   "mimetype": "text/x-python",
   "name": "python",
   "nbconvert_exporter": "python",
   "pygments_lexer": "ipython3",
   "version": "3.8.3"
  }
 },
 "nbformat": 4,
 "nbformat_minor": 2
}
