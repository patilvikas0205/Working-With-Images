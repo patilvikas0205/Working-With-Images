{
 "cells": [
  {
   "cell_type": "code",
   "execution_count": 5,
   "metadata": {},
   "outputs": [
    {
     "name": "stdout",
     "output_type": "stream",
     "text": [
      "['fruit: plums', 'fruit: watermelon', 'fruit: kiwi', 'fruit: strawberries', 'fruit: blueberries', 'fruit: peaches', 'fruit: apples', 'fruit: mangos', 'fruit: papaya']\n"
     ]
    }
   ],
   "source": [
    "'''Write code to assign to the variable map_testing all the elements in lst_check while \n",
    "adding the string “Fruit: ” to the beginning of each element using mapping.'''\n",
    "\n",
    "lst_check = ['plums', 'watermelon', 'kiwi', 'strawberries', 'blueberries', 'peaches', 'apples', 'mangos', 'papaya']\n",
    "\n",
    "map_testing=list(map((lambda x:\"fruit: \" + x),lst_check))\n",
    "print(map_testing)"
   ]
  },
  {
   "cell_type": "code",
   "execution_count": 14,
   "metadata": {},
   "outputs": [
    {
     "data": {
      "text/plain": [
       "['Brazil', 'Botswana', 'Britain', 'Bangladesh', 'Belarus', 'Belgium']"
      ]
     },
     "execution_count": 14,
     "metadata": {},
     "output_type": "execute_result"
    }
   ],
   "source": [
    "'''Below, we have provided a list of strings called countries. \n",
    "Use filter to produce a list called b_countries that only contains the strings from countries that begin with B.'''\n",
    "\n",
    "countries = ['Canada', 'Mexico', 'Brazil', 'Chile', 'Denmark', 'Botswana', 'Spain', \n",
    "             'Britain', 'Portugal', 'Russia', 'Thailand', 'Bangladesh', 'Nigeria', \n",
    "             'Argentina', 'Belarus', 'Laos', 'Australia', 'Panama', 'Egypt', 'Morocco', \n",
    "             'Switzerland', 'Belgium']\n",
    "\n",
    "b_countries=list(filter((lambda x:x.startswith(\"B\")),countries))\n",
    "b_countries"
   ]
  },
  {
   "cell_type": "code",
   "execution_count": 46,
   "metadata": {},
   "outputs": [
    {
     "name": "stdout",
     "output_type": "stream",
     "text": [
      "['Jon', 'Cersei', 'Arya', 'Robb', 'Jamie', 'Daenerys', 'Sansa', 'Margaery', 'Eddard', 'Tyrion', 'Joffrey', 'Ramsey', 'Peter']\n",
      "['Jon', 'Cersei', 'Arya', 'Robb', 'Jamie', 'Daenerys', 'Sansa', 'Margaery', 'Eddard', 'Tyrion', 'Joffrey', 'Ramsey', 'Peter']\n"
     ]
    }
   ],
   "source": [
    "'''Below, we have provided a list of tuples that contain the names of Game of Thrones characters. \n",
    "Using list comprehension, create a list of strings called first_names that contains only the \n",
    "first names of everyone in the original list.'''\n",
    "\n",
    "people = [('Snow', 'Jon'), ('Lannister', 'Cersei'), ('Stark', 'Arya'), \n",
    "          ('Stark', 'Robb'), ('Lannister', 'Jamie'), ('Targaryen', 'Daenerys'), \n",
    "          ('Stark', 'Sansa'), ('Tyrell', 'Margaery'), ('Stark', 'Eddard'), \n",
    "          ('Lannister', 'Tyrion'), ('Baratheon', 'Joffrey'), ('Bolton', 'Ramsey'), \n",
    "          ('Baelish', 'Peter')]\n",
    "\n",
    "first_names=list(map((lambda x:x[1]),people))\n",
    "print(first_names)\n",
    "#first_names = [name[1] for name in people] #can use\n",
    "first_names1=[name[1] for name in people]\n",
    "print(first_names1)"
   ]
  },
  {
   "cell_type": "code",
   "execution_count": 17,
   "metadata": {},
   "outputs": [
    {
     "data": {
      "text/plain": [
       "[['hi', 'bye', 'hi', 'bye'], 'hellohello', 'goodbyegoodbye', [9, 2, 9, 2], 8]"
      ]
     },
     "execution_count": 17,
     "metadata": {},
     "output_type": "execute_result"
    }
   ],
   "source": [
    "'''Use list comprehension to create a list called lst2 that doubles each element in the list, lst.'''\n",
    "lst = [[\"hi\", \"bye\"], \"hello\", \"goodbye\", [9, 2], 4]\n",
    "lst2=[item*2 for item in lst]\n",
    "lst2"
   ]
  },
  {
   "cell_type": "code",
   "execution_count": 20,
   "metadata": {},
   "outputs": [
    {
     "name": "stdout",
     "output_type": "stream",
     "text": [
      "['Tommy', 'Carl', 'Bob', 'Sue']\n"
     ]
    }
   ],
   "source": [
    "'''Below, we have provided a list of tuples that contain students’ names and their final grades in PYTHON 101. \n",
    "Using list comprehension, create a new list passed that contains the names of students who passed the class \n",
    "(had a final grade of 70 or greater).'''\n",
    "\n",
    "students = [('Tommy', 95), ('Linda', 63), ('Carl', 70), ('Bob', 100), ('Raymond', 50), ('Sue', 75)]\n",
    "passed=[stud[0] for stud in students if stud[1]>=70]\n",
    "print(passed)\n"
   ]
  },
  {
   "cell_type": "code",
   "execution_count": 35,
   "metadata": {},
   "outputs": [
    {
     "name": "stdout",
     "output_type": "stream",
     "text": [
      "<zip object at 0x000000000767BD08>\n",
      "[('left', 'right'), ('front', 'back')]\n"
     ]
    }
   ],
   "source": [
    "'''Write code using zip and filter so that these lists (l1 and l2) are combined into one big list \n",
    "and assigned to the variable opposites if they are both \n",
    "longer than 3 characters each.'''\n",
    "l1 = ['left', 'up', 'front']\n",
    "l2 = ['right', 'down', 'back']\n",
    "#l1=list(filter((lambda x:len(x)>=3),l1))\n",
    "#print(l1)\n",
    "#l2=list(filter((lambda x:len(x)>=3),l2))\n",
    "#print(l2)\n",
    "\n",
    "x=zip(l1,l2)\n",
    "#print(list(x))\n",
    "print(x)\n",
    "opposites = list(filter(lambda i: len(i[0])>3 and len(i[1])>3 ,x))\n",
    "print(opposites)"
   ]
  },
  {
   "cell_type": "code",
   "execution_count": 44,
   "metadata": {},
   "outputs": [
    {
     "name": "stdout",
     "output_type": "stream",
     "text": [
      "[('golden retriever', 10000), ('white tailed deer', 90000), ('black rhino', 1000), ('brown squirrel', 2000000), ('field mouse', 500000), ('orangutan', 500), ('sumatran elephant', 1200), ('rainbow trout', 8000), ('black bear', 12000), ('blue whale', 2300), ('water moccasin', 7500), ('giant panda', 100), ('green turtle', 1800), ('blue jay', 9500), ('japanese beetle', 125000)]\n",
      "[('black rhino', 1000), ('orangutan', 500), ('sumatran elephant', 1200), ('blue whale', 2300), ('giant panda', 100), ('green turtle', 1800)]\n"
     ]
    }
   ],
   "source": [
    "'''Below, we have provided a species list and a population list. \n",
    "Use zip to combine these lists into one list of tuples called pop_info. \n",
    "From this list, create a new list called endangered that contains the names of species whose \n",
    "populations are below 2500.'''\n",
    "\n",
    "species = ['golden retriever', 'white tailed deer', 'black rhino', 'brown squirrel', \n",
    "           'field mouse', 'orangutan', 'sumatran elephant', 'rainbow trout', 'black bear', \n",
    "           'blue whale', 'water moccasin', 'giant panda', 'green turtle', 'blue jay', 'japanese beetle']\n",
    "\n",
    "population = [10000, 90000, 1000, 2000000, 500000, 500, 1200, 8000, 12000, 2300, 7500, 100, 1800, 9500, 125000]\n",
    "\n",
    "#pop_info=zip(species,population)\n",
    "#print(pop_info)\n",
    "#endangered=list(filter(lambda population: population[1]<2500 ,pop_info))\n",
    "#print(endangered)\n",
    "\n",
    "pop_info=list(zip(species,population))\n",
    "print(pop_info)\n",
    "endangered=[pop for pop in pop_info if pop[1]<2500]\n",
    "print(endangered)"
   ]
  }
 ],
 "metadata": {
  "kernelspec": {
   "display_name": "Python 3",
   "language": "python",
   "name": "python3"
  },
  "language_info": {
   "codemirror_mode": {
    "name": "ipython",
    "version": 3
   },
   "file_extension": ".py",
   "mimetype": "text/x-python",
   "name": "python",
   "nbconvert_exporter": "python",
   "pygments_lexer": "ipython3",
   "version": "3.7.4"
  }
 },
 "nbformat": 4,
 "nbformat_minor": 2
}
